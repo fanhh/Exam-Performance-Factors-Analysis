{
 "cells": [
  {
   "cell_type": "markdown",
   "id": "b1300fce",
   "metadata": {},
   "source": [
    "# Project Description\n",
    "## Xiang Ding\n",
    "In this project, we aim to explore the factors that may affect students' exam performance and understand how these factors relate to their grades. We will begin by visualizing the data on exam scores and grades to identify any patterns or trends. In the second part of the project, we will take a closer look at three key factors that may impact students' overall exam performance: standard lunch, parents' education level, and completion of exam preparation. To achieve this, we will use scikit learn to build a linear model to perform Multiple Linear Regression and examine the correlation between these variables and students' grades. By the end of the project, we hope to gain a better understanding of how these factors contribute to students' academic success and identify potential areas for improvement.\n",
    "##### Run the cell from top to bottom"
   ]
  },
  {
   "cell_type": "code",
   "execution_count": null,
   "id": "ddbfbc5b",
   "metadata": {},
   "outputs": [],
   "source": [
    "#!pip install -U scikit-learn\n",
    "#!pip install pandas\n",
    "#!pip install numpy\n",
    "#!pip install -U matplotlib"
   ]
  },
  {
   "cell_type": "code",
   "execution_count": null,
   "id": "0ce10041",
   "metadata": {},
   "outputs": [],
   "source": [
    "import pandas as pd\n",
    "import numpy as np\n",
    "import matplotlib.pyplot as plt\n",
    "from data_module import df_vis\n",
    "from data_module import data_proc\n",
    "from data_module import basic_model\n",
    "from sklearn.linear_model import LinearRegression\n",
    "from sklearn.model_selection import train_test_split\n",
    "from sklearn.metrics import mean_squared_error, r2_score\n",
    "from sklearn.preprocessing import OneHotEncoder\n",
    "from sklearn.compose import make_column_transformer"
   ]
  },
  {
   "cell_type": "markdown",
   "id": "ad119eb3",
   "metadata": {},
   "source": [
    "### Read the CSV file"
   ]
  },
  {
   "cell_type": "code",
   "execution_count": null,
   "id": "0efb116e",
   "metadata": {},
   "outputs": [],
   "source": [
    "db = pd.read_csv('data/exams.csv')\n",
    "# Uncomment to see the part of the dataframe\n",
    "db.head()\n",
    "db.get(\"parental level of education\").unique()"
   ]
  },
  {
   "cell_type": "markdown",
   "id": "437981e1",
   "metadata": {},
   "source": [
    "### Part I: Data Visualization \n",
    "Factors: Parents education level, Free/reduced lunch, test preparation course"
   ]
  },
  {
   "cell_type": "code",
   "execution_count": null,
   "id": "bb341a00",
   "metadata": {},
   "outputs": [],
   "source": [
    "data_proc.grades_count(db, 'parental level of education')\n",
    "data_proc.grades_count(db, 'lunch')\n",
    "data_proc.grades_count(db, 'test preparation course')"
   ]
  },
  {
   "cell_type": "code",
   "execution_count": null,
   "id": "75f81c45",
   "metadata": {},
   "outputs": [],
   "source": [
    "df_vis.parents_education_score(db)\n",
    "df_vis.overall_lunch(db)\n",
    "df_vis.test_prep(db)"
   ]
  },
  {
   "cell_type": "markdown",
   "id": "555bec68",
   "metadata": {},
   "source": [
    "From the analysis of the three factors' data visualizations above, it is evident that there may be a strong correlation between higher academic performance and certain factors. Specifically, students with standard lunch, parents with higher education, and those who have completed exam preparation tend to have higher average exam scores."
   ]
  },
  {
   "cell_type": "markdown",
   "id": "c3c96799",
   "metadata": {},
   "source": [
    "### Part II:"
   ]
  },
  {
   "cell_type": "markdown",
   "id": "bd0968f5",
   "metadata": {},
   "source": [
    "In the first step, I quantify the data in these categories. To quantify the parents' education background, Based on the plot above. I assign a numerical value of 1 to indicate any master degree, 0.8 for bachelor's degree, 0.6 for some college, associate's degree and 0.4 for no college education. As for the second factor, school lunch, I assign a binary variable where a value of 1 indicates that the student receives a free school lunch, and 0 indicates that the student does not receive a free school lunch. Similarly, I follow the same procedure for exam preparation.\n",
    "##### Create a new table with the quantify data"
   ]
  },
  {
   "cell_type": "code",
   "execution_count": null,
   "id": "e52b4217",
   "metadata": {},
   "outputs": [],
   "source": [
    "new_db = data_proc.quantify_df(db).drop(columns=['race/ethnicity','math score', 'reading score',\n",
    "                                                 'writing score'])\n",
    "new_db.get('overall_score').apply(np.log)\n",
    "# Uncomment to the new dataframe\n",
    "#new_db['overall_score'].describe()\n",
    "plt.hist(new_db['overall_score'])\n",
    "new_db"
   ]
  },
  {
   "cell_type": "markdown",
   "id": "61dc5db0",
   "metadata": {},
   "source": [
    " In the second step, I divide the data into two parts: x_variables and y_variables. x_variables will represent the input variables that will be used in the regression model, while y_variables will represent the target variables.\n",
    " ##### Note: Since I am running mutiplie linear regressions, I do not need to stanardize my numbers, the model can take in raw data"
   ]
  },
  {
   "cell_type": "code",
   "execution_count": null,
   "id": "306ea6d8",
   "metadata": {},
   "outputs": [],
   "source": [
    "x_var = new_db.drop(columns=['overall_score'])\n",
    "y_var = new_db['overall_score']\n",
    "# uncomment to see the dataframe\n",
    "#x_var\n",
    "#y_var"
   ]
  },
  {
   "cell_type": "markdown",
   "id": "a3ac37e1",
   "metadata": {},
   "source": [
    "In the third step, I split the data into training and testing subsets using an 80/20 ratio. This means that 80% of the dataset will be used for training the linear regression model, while the remaining 20% will be used for testing. To accomplish this, we will be utilizing the train_test_split function from the sklearn.model_selection library.\n",
    "##### But feel free to play around the data split percentage to see how the r^2 values changes with different split"
   ]
  },
  {
   "cell_type": "code",
   "execution_count": null,
   "id": "f47b9964",
   "metadata": {},
   "outputs": [],
   "source": [
    "x_train, x_test, y_train, y_test = basic_model.datasplit(x_var, y_var, train=0.8, test=0.2)"
   ]
  },
  {
   "cell_type": "markdown",
   "id": "39788fe5",
   "metadata": {},
   "source": [
    "Use the data to train the sklearn.linear_model"
   ]
  },
  {
   "cell_type": "code",
   "execution_count": null,
   "id": "73289fc5",
   "metadata": {},
   "outputs": [],
   "source": [
    "model = basic_model.my_model()\n",
    "model.fit(x_train, y_train)"
   ]
  },
  {
   "cell_type": "markdown",
   "id": "ca9a2140",
   "metadata": {},
   "source": [
    "Apply the trained model to make prediction on the training/test set and output the model stats."
   ]
  },
  {
   "cell_type": "code",
   "execution_count": null,
   "id": "2baf5134",
   "metadata": {},
   "outputs": [],
   "source": [
    "score_predict_train = basic_model.score_predict_train(model, x_train, y_train)\n",
    "score_predict_test = basic_model.score_predict_test(model, x_test, y_test)"
   ]
  },
  {
   "cell_type": "markdown",
   "id": "9dd2c0a3",
   "metadata": {},
   "source": [
    "### Output the equation of the linear model and the model's prediction graph\n",
    "Pe = Parents education level, l = school lunch, ep = exam prep"
   ]
  },
  {
   "cell_type": "code",
   "execution_count": null,
   "id": "d7b8352a",
   "metadata": {},
   "outputs": [],
   "source": [
    "basic_model.linear_eq(model)\n",
    "df_vis.predict_model(y_train, score_predict_train, y_test)\n",
    "df_vis.actual(score_predict_test, y_test)"
   ]
  },
  {
   "cell_type": "markdown",
   "id": "3fb2445a",
   "metadata": {},
   "source": [
    "### Analysis\n",
    "Based on my analysis, the linear model I built did not accurately predict students' exam scores. The model had high MSE values and low R^2 values, indicating that the variables we examined - parents' education, school lunch, and exam preparation - did not have a significant impact on overall exam performance. These results suggest that other factors may play a more important role in determining students' academic success. Further reserach is needed and perhaps a different model may have a better results."
   ]
  },
  {
   "cell_type": "code",
   "execution_count": null,
   "id": "5cf9ca72",
   "metadata": {},
   "outputs": [],
   "source": [
    "!pytest"
   ]
  },
  {
   "cell_type": "markdown",
   "id": "a02c44b6",
   "metadata": {},
   "source": [
    "## Extra Credits\n",
    "I belived I have really challenged myself by exploring and utilizing various libraries, including Pandas and Matplotlib, to manipulate data and generate insightful visualizations. However, the most exhilarating part has been diving into the world of machine learning with Scikit-Learn. By delving into the mathematics behind linear regression models and researching various online articles, I've gained a deeper understanding of the mechanics behind the model and how to effectively apply it to my datasets. Moreover, This project has also been uploaded on github as well https://github.com/fanhh/examdata_prediction"
   ]
  }
 ],
 "metadata": {
  "kernelspec": {
   "display_name": "Python 3 (clean)",
   "language": "python",
   "name": "python3_clean"
  },
  "language_info": {
   "codemirror_mode": {
    "name": "ipython",
    "version": 3
   },
   "file_extension": ".py",
   "mimetype": "text/x-python",
   "name": "python",
   "nbconvert_exporter": "python",
   "pygments_lexer": "ipython3",
   "version": "3.9.5"
  }
 },
 "nbformat": 4,
 "nbformat_minor": 5
}
