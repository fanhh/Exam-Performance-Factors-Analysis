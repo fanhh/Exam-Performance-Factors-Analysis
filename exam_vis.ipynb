{
 "cells": [
  {
   "cell_type": "markdown",
   "id": "b1300fce",
   "metadata": {},
   "source": [
    "# Project Description\n",
    "## Xiang Ding\n",
    "In this project, I have set out on an exciting voyage into the realm of scientific computing, delving into the intricacies of manipulating dataframes, visualizing data through plotting, and leveraging linear regression machine learning algorithms to make predictions and examine the how much impact does each indepent variables factors in the output. To apply these skills, I have meticulously analyzed a dataset containing 1000 samples of students' exam performance, using pandas to see how much the parental education, free school lunch, and exam prep factors in academic success. There are three parts of this project: \n",
    "#### Part I: running bootstrap to estimate the true parameters of the exam score based on gender and exam category via data visualization, this will allow me to obtain a more reliable estimate of the means, with a 99% confidence interval approximation. \n",
    "#### Part II: Examine on serval factors that may be assoicated with the student exam performance via data visualization.\n",
    "#### Part III: Is where I am going to walk you step by step of how I use scikit learn to build a linear model and examine the impacts of each independent variables has on the ouputs.\n",
    "Please uncomment each cell below to run and see the data visualization."
   ]
  },
  {
   "cell_type": "code",
   "execution_count": null,
   "id": "ddbfbc5b",
   "metadata": {},
   "outputs": [],
   "source": [
    "#!pip install -U scikit-learn\n",
    "#!pip install pandas\n",
    "#!pip install numpy\n",
    "#!pip install -U matplotlib"
   ]
  },
  {
   "cell_type": "code",
   "execution_count": null,
   "id": "0ce10041",
   "metadata": {},
   "outputs": [],
   "source": [
    "import pandas as pd\n",
    "import numpy as np\n",
    "import matplotlib.pyplot as plt\n",
    "from data_module import df_vis\n",
    "from data_module import data_proc\n",
    "from data_module import basic_model\n",
    "from sklearn.linear_model import LinearRegression\n",
    "from sklearn.model_selection import train_test_split\n",
    "from sklearn.metrics import mean_squared_error, r2_score"
   ]
  },
  {
   "cell_type": "markdown",
   "id": "ad119eb3",
   "metadata": {},
   "source": [
    "### Read the CSV file"
   ]
  },
  {
   "cell_type": "code",
   "execution_count": null,
   "id": "0efb116e",
   "metadata": {},
   "outputs": [],
   "source": [
    "db = pd.read_csv('data/exams.csv')\n",
    "# Uncomment if you want to see the dataframe\n",
    "#db.head()"
   ]
  },
  {
   "cell_type": "markdown",
   "id": "437981e1",
   "metadata": {},
   "source": [
    "### Part I:\n",
    "1000 bootstrap iterations for each gender in the exam score category, with a 99% confidence interval approximation."
   ]
  },
  {
   "cell_type": "code",
   "execution_count": null,
   "id": "3b50c7a4",
   "metadata": {},
   "outputs": [],
   "source": [
    "# Uncomment the code to see what the plot looks like\n",
    "#df_vis.bootstrap(db, 'male', 'math score')\n",
    "#df_vis.bootstrap(db, 'male', 'reading score')\n",
    "#df_vis.bootstrap(db, 'male', 'writing score')\n",
    "#df_vis.bootstrap(db, 'female', 'math score')\n",
    "#df_vis.bootstrap(db, 'female', 'reading score')\n",
    "#df_vis.bootstrap(db, 'female', 'writing score')"
   ]
  },
  {
   "cell_type": "markdown",
   "id": "0624c406",
   "metadata": {},
   "source": [
    "### PartII:\n",
    "Factors: Parents education level, Free/reduced lunch, test preparation course"
   ]
  },
  {
   "cell_type": "code",
   "execution_count": null,
   "id": "d137c5c8",
   "metadata": {},
   "outputs": [],
   "source": [
    "# Uncomment the code to see what the bar graph looks like\n",
    "#df_vis.parents_education_score(db)\n",
    "#df_vis.overall_lunch(db)\n",
    "#df_vis.test_prep(db)"
   ]
  },
  {
   "cell_type": "markdown",
   "id": "555bec68",
   "metadata": {},
   "source": [
    "From the analysis of the three factors' data visualizations above, it is evident that there exists a strong correlation between higher academic performance and certain factors. Specifically, students with standard lunch, parents with higher education, and those who have completed exam preparation tend to have higher average exam scores."
   ]
  },
  {
   "cell_type": "markdown",
   "id": "c3c96799",
   "metadata": {},
   "source": [
    "### Part III:\n",
    "I am going to use scikit-learn to build a linear regression model to see how much correlation with students' overall exam performance based on three key factors: standard lunch, parents' education level, and completion of exam preparation. Note: For this project I will only based the overall average exam performance for students."
   ]
  },
  {
   "cell_type": "markdown",
   "id": "bd0968f5",
   "metadata": {},
   "source": [
    "In the first step, I quantify the data in these categories. To quantify the parents' education background, I assign a numerical value of 3 to indicate a master's degree, 2 for a bachelor's degree, 1 for some college education, and 0 for no college education. As for the second factor, school lunch, we will create a binary variable where a value of 1 indicates that the student receives a free school lunch, and 0 indicates that the student does not receive a free school lunch. Similarly, we will follow the same procedure for exam preparation."
   ]
  },
  {
   "cell_type": "code",
   "execution_count": null,
   "id": "e52b4217",
   "metadata": {},
   "outputs": [],
   "source": [
    "new_db = data_proc.quantify_df(db).drop(columns=['gender', 'race/ethnicity', 'math score', 'reading score', 'writing score'])"
   ]
  },
  {
   "cell_type": "markdown",
   "id": "61dc5db0",
   "metadata": {},
   "source": [
    " In the second step, I divide the data into two parts: x_variables and y_variables. x_variables will represent the input variables that will be used in the regression model, while y_variables will represent the target variables."
   ]
  },
  {
   "cell_type": "code",
   "execution_count": null,
   "id": "306ea6d8",
   "metadata": {},
   "outputs": [],
   "source": [
    "x_var = new_db.drop(columns=['overall_score'])"
   ]
  },
  {
   "cell_type": "markdown",
   "id": "50c1749e",
   "metadata": {},
   "source": [
    "It is important to standardize the overall_score variable to ensure that all variables are on the same scale when building the regression model. The forumla I used is (xi - x.mean)/np.std(x)"
   ]
  },
  {
   "cell_type": "code",
   "execution_count": null,
   "id": "fc580f9d",
   "metadata": {},
   "outputs": [],
   "source": [
    "y_var = data_proc.su(new_db.get('overall_score'))"
   ]
  },
  {
   "cell_type": "markdown",
   "id": "a3ac37e1",
   "metadata": {},
   "source": [
    "In the third step, I split the data into training and testing subsets using an 80/20 ratio. This means that 80% of the dataset will be used for training the linear regression model, while the remaining 20% will be used for testing. To accomplish this, we will be utilizing the train_test_split function from the sklearn.model_selection library.\n",
    "##### But feel free to play around the data split percentage to see how the r^2 values changes with different split"
   ]
  },
  {
   "cell_type": "code",
   "execution_count": null,
   "id": "f47b9964",
   "metadata": {},
   "outputs": [],
   "source": [
    "x_train, x_test, y_train, y_test = basic_model.datasplit(x_var, y_var, train=0.8, test=0.2)"
   ]
  },
  {
   "cell_type": "markdown",
   "id": "39788fe5",
   "metadata": {},
   "source": [
    "Use the data to train the sklearn.linear_model"
   ]
  },
  {
   "cell_type": "code",
   "execution_count": null,
   "id": "73289fc5",
   "metadata": {},
   "outputs": [],
   "source": [
    "model = basic_model.my_model()\n",
    "model.fit(x_train, y_train)"
   ]
  },
  {
   "cell_type": "markdown",
   "id": "ca9a2140",
   "metadata": {},
   "source": [
    "Apply the trained model to make prediction on the training/test set and output the model stats."
   ]
  },
  {
   "cell_type": "code",
   "execution_count": null,
   "id": "2baf5134",
   "metadata": {},
   "outputs": [],
   "source": [
    "score_predict_train = basic_model.score_predict_train(model, x_train, y_train)\n",
    "score_predict_test = basic_model.score_predict_test(model, x_test, y_test)"
   ]
  },
  {
   "cell_type": "markdown",
   "id": "9dd2c0a3",
   "metadata": {},
   "source": [
    "### Output the equation of the linear model and the model's prediction graph\n",
    "Pe = Parents education level, l = school lunch, ep = exam prep"
   ]
  },
  {
   "cell_type": "code",
   "execution_count": null,
   "id": "d7b8352a",
   "metadata": {},
   "outputs": [],
   "source": [
    "basic_model.linear_eq(model)\n",
    "df_vis.predict_model(y_train, score_predict_train, y_test)\n",
    "df_vis.actual(score_predict_test, y_test)"
   ]
  },
  {
   "cell_type": "markdown",
   "id": "3fb2445a",
   "metadata": {},
   "source": [
    "Based on my obervation, the linear model I have are not very accurate in terms of perdicting the student score due to it's high MSE values and low R^2 values. Whic implies that the parents education, school lunch and exam prep does not play a significant roles in the overall exam performance."
   ]
  },
  {
   "cell_type": "code",
   "execution_count": null,
   "id": "5cf9ca72",
   "metadata": {},
   "outputs": [],
   "source": [
    "!pytest"
   ]
  },
  {
   "cell_type": "markdown",
   "id": "a02c44b6",
   "metadata": {},
   "source": [
    "## Extra Credits\n",
    "I belived I have really challenged myself by exploring and utilizing various libraries, including Pandas and Matplotlib, to manipulate data and generate insightful visualizations. However, the most exhilarating part has been diving into the world of machine learning with Scikit-Learn. By delving into the mathematics behind linear regression models and researching various online articles, I've gained a deeper understanding of the mechanics behind the model and how to effectively apply it to my datasets. Moreover, This project has also been uploaded on github as well"
   ]
  },
  {
   "cell_type": "code",
   "execution_count": null,
   "id": "65ba3afa",
   "metadata": {},
   "outputs": [],
   "source": []
  }
 ],
 "metadata": {
  "kernelspec": {
   "display_name": "Python 3 (clean)",
   "language": "python",
   "name": "python3_clean"
  },
  "language_info": {
   "codemirror_mode": {
    "name": "ipython",
    "version": 3
   },
   "file_extension": ".py",
   "mimetype": "text/x-python",
   "name": "python",
   "nbconvert_exporter": "python",
   "pygments_lexer": "ipython3",
   "version": "3.9.5"
  }
 },
 "nbformat": 4,
 "nbformat_minor": 5
}
